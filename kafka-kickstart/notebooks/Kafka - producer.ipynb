{
 "cells": [
  {
   "cell_type": "markdown",
   "metadata": {},
   "source": [
    "# Diplomatura en Ciencia de Datos, Aprendizaje Automático y sus Aplicaciones\n",
    "## Despliegue de !pip install kafka-pythonSistemas Predictivos\",\n",
    "\n",
    "### Facultad de Matemática Astronomía Física y Computación\n",
    "## Universidad Nacional de Córdoba\n",
    "\n",
    "<img src=\"http://program.ar/wp-content/uploads/2018/07/logo-UNC-FAMAF.png\" alt=\"Drawing\" style=\"width:80%;\"/>"
   ]
  },
  {
   "cell_type": "code",
   "execution_count": 1,
   "metadata": {},
   "outputs": [
    {
     "name": "stdout",
     "output_type": "stream",
     "text": [
      "Requirement already satisfied: kafka-python in /home/ssulca/development/deployment-pm/kafka-kickstart/venv/lib/python3.8/site-packages (2.0.2)\n",
      "\u001b[33mWARNING: You are using pip version 20.1.1; however, version 20.2.4 is available.\n",
      "You should consider upgrading via the '/home/ssulca/development/deployment-pm/kafka-kickstart/venv/bin/python -m pip install --upgrade pip' command.\u001b[0m\n"
     ]
    }
   ],
   "source": [
    "!pip install kafka-python"
   ]
  },
  {
   "cell_type": "markdown",
   "metadata": {},
   "source": [
    "## Library documentation\n",
    "\n",
    " * [doc](https://kafka-python.readthedocs.io/en/master/usage.html)\n",
    "\n",
    "Constants to be used by admin, consumer and producer"
   ]
  },
  {
   "cell_type": "code",
   "execution_count": 1,
   "metadata": {},
   "outputs": [],
   "source": [
    "from kafka import KafkaProducer\n",
    "from kafka.errors import KafkaError"
   ]
  },
  {
   "cell_type": "code",
   "execution_count": 2,
   "metadata": {},
   "outputs": [],
   "source": [
    "# puerto para comunicarme con kafka\n",
    "KAFKA_PORT = '9092'\n",
    "KAFKA_DNS = 'localhost'\n",
    "KAFKA_SERVER_URI = f'{KAFKA_DNS}:{KAFKA_PORT}'\n",
    "TOPIC = 'dummy_topic'\n",
    "PARTITIONS = 3\n",
    "REPLICATION_FACTOR = 1"
   ]
  },
  {
   "cell_type": "code",
   "execution_count": 3,
   "metadata": {},
   "outputs": [
    {
     "name": "stdin",
     "output_type": "stream",
     "text": [
      "Message to be sent:  heelp\n"
     ]
    },
    {
     "name": "stdout",
     "output_type": "stream",
     "text": [
      "dummy_topic\n",
      "2\n",
      "2\n"
     ]
    }
   ],
   "source": [
    "producer = KafkaProducer(bootstrap_servers=[KAFKA_SERVER_URI])\n",
    "\n",
    "# Asynchronous by default\n",
    "message = input(\"Message to be sent: \")\n",
    "future = producer.send(TOPIC, value=bytes(message, 'utf-8'))\n",
    "\n",
    "# Block for 'synchronous' sends\n",
    "try:\n",
    "    record_metadata = future.get(timeout=10)\n",
    "except KafkaError:\n",
    "    # Decide what to do if produce request failed...\n",
    "    log.exception()\n",
    "    pass\n",
    "\n",
    "# Successful result returns assigned partition and offset\n",
    "print (record_metadata.topic)\n",
    "print (record_metadata.partition)\n",
    "print (record_metadata.offset)"
   ]
  }
 ],
 "metadata": {
  "kernelspec": {
   "display_name": "Python 3",
   "language": "python",
   "name": "python3"
  },
  "language_info": {
   "codemirror_mode": {
    "name": "ipython",
    "version": 3
   },
   "file_extension": ".py",
   "mimetype": "text/x-python",
   "name": "python",
   "nbconvert_exporter": "python",
   "pygments_lexer": "ipython3",
   "version": "3.8.5"
  }
 },
 "nbformat": 4,
 "nbformat_minor": 4
}
