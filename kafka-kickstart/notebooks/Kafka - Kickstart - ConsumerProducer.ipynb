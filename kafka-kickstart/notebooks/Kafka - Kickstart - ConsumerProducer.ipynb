{
 "cells": [
  {
   "cell_type": "markdown",
   "metadata": {},
   "source": [
    "# Diplomatura en Ciencia de Datos, Aprendizaje Automático y sus Aplicaciones\n",
    "## Despliegue de Sistemas Predictivos\",\n",
    "\n",
    "### Facultad de Matemática Astronomía Física y Computación\n",
    "## Universidad Nacional de Córdoba\n",
    "\n",
    "<img src=\"http://program.ar/wp-content/uploads/2018/07/logo-UNC-FAMAF.png\" alt=\"Drawing\" style=\"width:80%;\"/>"
   ]
  },
  {
   "cell_type": "markdown",
   "metadata": {},
   "source": [
    "### Setup your Kafka cluster with Zookeeper\n",
    "\n",
    "see `kafka/docker-compose.yml`"
   ]
  },
  {
   "cell_type": "markdown",
   "metadata": {},
   "source": [
    "## Install dependencies for python project"
   ]
  },
  {
   "cell_type": "code",
   "execution_count": 1,
   "metadata": {},
   "outputs": [
    {
     "name": "stdout",
     "output_type": "stream",
     "text": [
      "Requirement already satisfied: kafka-python in /home/ssulca/development/deployment-pm/kafka-kickstart/venv/lib/python3.8/site-packages (2.0.2)\n",
      "\u001b[33mWARNING: You are using pip version 20.1.1; however, version 20.2.4 is available.\n",
      "You should consider upgrading via the '/home/ssulca/development/deployment-pm/kafka-kickstart/venv/bin/python -m pip install --upgrade pip' command.\u001b[0m\n"
     ]
    }
   ],
   "source": [
    "!pip install kafka-python"
   ]
  },
  {
   "cell_type": "markdown",
   "metadata": {},
   "source": [
    "## Library documentation\n",
    "\n",
    "https://kafka-python.readthedocs.io/en/master/usage.html"
   ]
  },
  {
   "cell_type": "markdown",
   "metadata": {},
   "source": [
    "## Consumer / Producer with python\n",
    "Constants to be used by admin, consumer and producer"
   ]
  },
  {
   "cell_type": "code",
   "execution_count": 1,
   "metadata": {},
   "outputs": [],
   "source": [
    "import logging"
   ]
  },
  {
   "cell_type": "code",
   "execution_count": 2,
   "metadata": {},
   "outputs": [],
   "source": [
    "# puerto para comunicarme con kafka\n",
    "KAFKA_PORT = '9092'\n",
    "\n",
    "# KAFKA_DNS = 'localhost'\n",
    "KAFKA_DNS = 'localhost'\n",
    "KAFKA_SERVER_URI = f'{KAFKA_DNS}:{KAFKA_PORT}'\n",
    "TOPIC = 'dummy_topic'\n",
    "PARTITIONS = 3\n",
    "REPLICATION_FACTOR = 1"
   ]
  },
  {
   "cell_type": "code",
   "execution_count": 3,
   "metadata": {},
   "outputs": [
    {
     "name": "stderr",
     "output_type": "stream",
     "text": [
      "WARNING:root:Topic dummy_topic already created. Creation ommited\n"
     ]
    }
   ],
   "source": [
    "# Create a topic with an admin client\n",
    "from kafka.admin import KafkaAdminClient, NewTopic\n",
    "from kafka.errors import TopicAlreadyExistsError\n",
    "\n",
    "admin_client = KafkaAdminClient(\n",
    "    bootstrap_servers=KAFKA_SERVER_URI, \n",
    "    client_id='adminZero'\n",
    ")\n",
    "\n",
    "topic_list = []\n",
    "topic_list.append(NewTopic(name=TOPIC, num_partitions=PARTITIONS, replication_factor=REPLICATION_FACTOR))\n",
    "try:\n",
    "    admin_client.create_topics(new_topics=topic_list, validate_only=False)\n",
    "except TopicAlreadyExistsError:\n",
    "    logging.warning(f\"Topic {TOPIC} already created. Creation ommited\")"
   ]
  },
  {
   "cell_type": "code",
   "execution_count": 4,
   "metadata": {},
   "outputs": [
    {
     "name": "stderr",
     "output_type": "stream",
     "text": [
      "WARNING:kafka.coordinator.consumer:group_id is None: disabling auto-commit.\n"
     ]
    },
    {
     "data": {
      "text/plain": [
       "{'__confluent.support.metrics', 'dummy_topic'}"
      ]
     },
     "execution_count": 4,
     "metadata": {},
     "output_type": "execute_result"
    }
   ],
   "source": [
    "# List all topics and find the 'dummy_topic'\n",
    "\n",
    "from kafka import KafkaConsumer\n",
    "consumer = KafkaConsumer(group_id=None, bootstrap_servers=[KAFKA_SERVER_URI])\n",
    "consumer.topics()"
   ]
  },
  {
   "cell_type": "markdown",
   "metadata": {},
   "source": [
    "### Produce a message"
   ]
  },
  {
   "cell_type": "code",
   "execution_count": 5,
   "metadata": {},
   "outputs": [
    {
     "name": "stdin",
     "output_type": "stream",
     "text": [
      "Message to be sent:  hello\n"
     ]
    }
   ],
   "source": [
    "# Produce a message\n",
    "\n",
    "from kafka import KafkaProducer\n",
    "from kafka.errors import KafkaError\n",
    "\n",
    "producer = KafkaProducer(bootstrap_servers=[KAFKA_SERVER_URI])\n",
    "\n",
    "# Asynchronous by default\n",
    "message = input(\"Message to be sent: \")\n",
    "FROM = 'uniqueID' # This is useful to ensure order in reading.\n",
    "future = producer.send(TOPIC, key=bytes(FROM, 'utf-8'), value=bytes(message, 'utf-8'))"
   ]
  },
  {
   "cell_type": "code",
   "execution_count": 6,
   "metadata": {},
   "outputs": [
    {
     "name": "stdout",
     "output_type": "stream",
     "text": [
      "DUMMY_TOPIC Partition: 2 Offset:2 key=None value=b'heelp'\n"
     ]
    },
    {
     "name": "stderr",
     "output_type": "stream",
     "text": [
      "WARNING:kafka.client:Node 1 connection failed -- refreshing metadata\n",
      "ERROR:kafka.conn:<BrokerConnection node_id=1 host=127.0.0.1:9092 <connected> [IPv4 ('127.0.0.1', 9092)]>: socket disconnected\n",
      "WARNING:kafka.client:Node 1 connection failed -- refreshing metadata\n",
      "ERROR:kafka.conn:<BrokerConnection node_id=1 host=127.0.0.1:9092 <connected> [IPv4 ('127.0.0.1', 9092)]>: socket disconnected\n",
      "WARNING:kafka.client:Node 1 connection failed -- refreshing metadata\n",
      "ERROR:kafka.conn:<BrokerConnection node_id=1 host=127.0.0.1:9092 <connected> [IPv4 ('127.0.0.1', 9092)]>: socket disconnected\n",
      "WARNING:kafka.client:Node 1 connection failed -- refreshing metadata\n",
      "ERROR:kafka.conn:<BrokerConnection node_id=1 host=127.0.0.1:9092 <connected> [IPv4 ('127.0.0.1', 9092)]>: socket disconnected\n",
      "WARNING:kafka.client:Node 1 connection failed -- refreshing metadata\n",
      "ERROR:kafka.conn:<BrokerConnection node_id=1 host=127.0.0.1:9092 <connected> [IPv4 ('127.0.0.1', 9092)]>: socket disconnected\n",
      "WARNING:kafka.client:Node 1 connection failed -- refreshing metadata\n",
      "ERROR:kafka.conn:<BrokerConnection node_id=1 host=127.0.0.1:9092 <connected> [IPv4 ('127.0.0.1', 9092)]>: socket disconnected\n",
      "WARNING:kafka.client:Node 1 connection failed -- refreshing metadata\n",
      "ERROR:kafka.conn:<BrokerConnection node_id=1 host=127.0.0.1:9092 <connected> [IPv4 ('127.0.0.1', 9092)]>: socket disconnected\n",
      "WARNING:kafka.client:Node 1 connection failed -- refreshing metadata\n",
      "ERROR:kafka.conn:<BrokerConnection node_id=1 host=127.0.0.1:9092 <connected> [IPv4 ('127.0.0.1', 9092)]>: socket disconnected\n",
      "WARNING:kafka.client:Node 1 connection failed -- refreshing metadata\n",
      "ERROR:kafka.conn:<BrokerConnection node_id=1 host=127.0.0.1:9092 <connected> [IPv4 ('127.0.0.1', 9092)]>: socket disconnected\n",
      "WARNING:kafka.client:Node 1 connection failed -- refreshing metadata\n",
      "ERROR:kafka.conn:<BrokerConnection node_id=1 host=127.0.0.1:9092 <connected> [IPv4 ('127.0.0.1', 9092)]>: socket disconnected\n",
      "WARNING:kafka.client:Node 1 connection failed -- refreshing metadata\n",
      "ERROR:kafka.conn:<BrokerConnection node_id=1 host=127.0.0.1:9092 <connected> [IPv4 ('127.0.0.1', 9092)]>: socket disconnected\n",
      "WARNING:kafka.client:Node 1 connection failed -- refreshing metadata\n",
      "ERROR:kafka.conn:<BrokerConnection node_id=1 host=127.0.0.1:9092 <connected> [IPv4 ('127.0.0.1', 9092)]>: socket disconnected\n",
      "WARNING:kafka.client:Node 1 connection failed -- refreshing metadata\n",
      "ERROR:kafka.conn:<BrokerConnection node_id=1 host=127.0.0.1:9092 <connected> [IPv4 ('127.0.0.1', 9092)]>: socket disconnected\n",
      "WARNING:kafka.client:Node 1 connection failed -- refreshing metadata\n",
      "ERROR:kafka.conn:<BrokerConnection node_id=1 host=127.0.0.1:9092 <connected> [IPv4 ('127.0.0.1', 9092)]>: socket disconnected\n",
      "WARNING:kafka.client:Node 1 connection failed -- refreshing metadata\n",
      "ERROR:kafka.conn:<BrokerConnection node_id=1 host=127.0.0.1:9092 <connected> [IPv4 ('127.0.0.1', 9092)]>: socket disconnected\n",
      "WARNING:kafka.client:Node 1 connection failed -- refreshing metadata\n",
      "ERROR:kafka.conn:<BrokerConnection node_id=1 host=127.0.0.1:9092 <connected> [IPv4 ('127.0.0.1', 9092)]>: socket disconnected\n",
      "WARNING:kafka.client:Node 1 connection failed -- refreshing metadata\n",
      "ERROR:kafka.conn:<BrokerConnection node_id=1 host=127.0.0.1:9092 <connected> [IPv4 ('127.0.0.1', 9092)]>: socket disconnected\n",
      "WARNING:kafka.client:Node 1 connection failed -- refreshing metadata\n",
      "ERROR:kafka.conn:<BrokerConnection node_id=1 host=127.0.0.1:9092 <connected> [IPv4 ('127.0.0.1', 9092)]>: socket disconnected\n",
      "WARNING:kafka.client:Node 1 connection failed -- refreshing metadata\n",
      "ERROR:kafka.conn:<BrokerConnection node_id=1 host=127.0.0.1:9092 <connected> [IPv4 ('127.0.0.1', 9092)]>: socket disconnected\n",
      "WARNING:kafka.client:Node 1 connection failed -- refreshing metadata\n",
      "ERROR:kafka.conn:<BrokerConnection node_id=1 host=127.0.0.1:9092 <connected> [IPv4 ('127.0.0.1', 9092)]>: socket disconnected\n",
      "WARNING:kafka.client:Node 1 connection failed -- refreshing metadata\n",
      "ERROR:kafka.conn:<BrokerConnection node_id=1 host=127.0.0.1:9092 <connected> [IPv4 ('127.0.0.1', 9092)]>: socket disconnected\n",
      "WARNING:kafka.client:Node 1 connection failed -- refreshing metadata\n",
      "ERROR:kafka.conn:<BrokerConnection node_id=1 host=127.0.0.1:9092 <connected> [IPv4 ('127.0.0.1', 9092)]>: socket disconnected\n",
      "WARNING:kafka.client:Node 1 connection failed -- refreshing metadata\n",
      "ERROR:kafka.conn:<BrokerConnection node_id=1 host=127.0.0.1:9092 <connected> [IPv4 ('127.0.0.1', 9092)]>: socket disconnected\n",
      "WARNING:kafka.client:Node 1 connection failed -- refreshing metadata\n",
      "ERROR:kafka.conn:<BrokerConnection node_id=1 host=127.0.0.1:9092 <connected> [IPv4 ('127.0.0.1', 9092)]>: socket disconnected\n",
      "WARNING:kafka.client:Node 1 connection failed -- refreshing metadata\n",
      "ERROR:kafka.conn:<BrokerConnection node_id=1 host=127.0.0.1:9092 <connected> [IPv4 ('127.0.0.1', 9092)]>: socket disconnected\n",
      "WARNING:kafka.client:Node 1 connection failed -- refreshing metadata\n",
      "ERROR:kafka.conn:<BrokerConnection node_id=1 host=127.0.0.1:9092 <connected> [IPv4 ('127.0.0.1', 9092)]>: socket disconnected\n",
      "WARNING:kafka.client:Node 1 connection failed -- refreshing metadata\n",
      "ERROR:kafka.conn:<BrokerConnection node_id=1 host=127.0.0.1:9092 <connected> [IPv4 ('127.0.0.1', 9092)]>: socket disconnected\n",
      "WARNING:kafka.client:Node 1 connection failed -- refreshing metadata\n",
      "ERROR:kafka.conn:<BrokerConnection node_id=1 host=127.0.0.1:9092 <connected> [IPv4 ('127.0.0.1', 9092)]>: socket disconnected\n",
      "WARNING:kafka.client:Node 1 connection failed -- refreshing metadata\n",
      "ERROR:kafka.conn:<BrokerConnection node_id=1 host=127.0.0.1:9092 <connected> [IPv4 ('127.0.0.1', 9092)]>: socket disconnected\n",
      "WARNING:kafka.client:Node 1 connection failed -- refreshing metadata\n",
      "ERROR:kafka.conn:<BrokerConnection node_id=1 host=127.0.0.1:9092 <connected> [IPv4 ('127.0.0.1', 9092)]>: socket disconnected\n",
      "WARNING:kafka.client:Node 1 connection failed -- refreshing metadata\n",
      "ERROR:kafka.conn:Connect attempt to <BrokerConnection node_id=1 host=127.0.0.1:9092 <connecting> [IPv4 ('127.0.0.1', 9092)]> returned error 111. Disconnecting.\n",
      "WARNING:kafka.client:Node 1 connection failed -- refreshing metadata\n",
      "ERROR:kafka.conn:Connect attempt to <BrokerConnection node_id=1 host=127.0.0.1:9092 <connecting> [IPv4 ('127.0.0.1', 9092)]> returned error 111. Disconnecting.\n",
      "WARNING:kafka.client:Node 1 connection failed -- refreshing metadata\n",
      "ERROR:kafka.conn:Connect attempt to <BrokerConnection node_id=1 host=127.0.0.1:9092 <connecting> [IPv4 ('127.0.0.1', 9092)]> returned error 111. Disconnecting.\n",
      "WARNING:kafka.client:Node 1 connection failed -- refreshing metadata\n",
      "ERROR:kafka.conn:Connect attempt to <BrokerConnection node_id=1 host=127.0.0.1:9092 <connecting> [IPv4 ('127.0.0.1', 9092)]> returned error 111. Disconnecting.\n",
      "WARNING:kafka.client:Node 1 connection failed -- refreshing metadata\n",
      "ERROR:kafka.conn:Connect attempt to <BrokerConnection node_id=1 host=127.0.0.1:9092 <connecting> [IPv4 ('127.0.0.1', 9092)]> returned error 111. Disconnecting.\n",
      "WARNING:kafka.client:Node 1 connection failed -- refreshing metadata\n",
      "ERROR:kafka.conn:Connect attempt to <BrokerConnection node_id=1 host=127.0.0.1:9092 <connecting> [IPv4 ('127.0.0.1', 9092)]> returned error 111. Disconnecting.\n",
      "WARNING:kafka.client:Node 1 connection failed -- refreshing metadata\n",
      "ERROR:kafka.conn:Connect attempt to <BrokerConnection node_id=1 host=127.0.0.1:9092 <connecting> [IPv4 ('127.0.0.1', 9092)]> returned error 111. Disconnecting.\n",
      "WARNING:kafka.client:Node 1 connection failed -- refreshing metadata\n",
      "ERROR:kafka.conn:Connect attempt to <BrokerConnection node_id=1 host=127.0.0.1:9092 <connecting> [IPv4 ('127.0.0.1', 9092)]> returned error 111. Disconnecting.\n",
      "WARNING:kafka.client:Node 1 connection failed -- refreshing metadata\n",
      "ERROR:kafka.conn:Connect attempt to <BrokerConnection node_id=1 host=127.0.0.1:9092 <connecting> [IPv4 ('127.0.0.1', 9092)]> returned error 111. Disconnecting.\n",
      "WARNING:kafka.client:Node 1 connection failed -- refreshing metadata\n",
      "ERROR:kafka.conn:Connect attempt to <BrokerConnection node_id=1 host=127.0.0.1:9092 <connecting> [IPv4 ('127.0.0.1', 9092)]> returned error 111. Disconnecting.\n",
      "WARNING:kafka.client:Node 1 connection failed -- refreshing metadata\n",
      "ERROR:kafka.conn:Connect attempt to <BrokerConnection node_id=1 host=127.0.0.1:9092 <connecting> [IPv4 ('127.0.0.1', 9092)]> returned error 111. Disconnecting.\n",
      "WARNING:kafka.client:Node 1 connection failed -- refreshing metadata\n",
      "ERROR:kafka.conn:Connect attempt to <BrokerConnection node_id=1 host=127.0.0.1:9092 <connecting> [IPv4 ('127.0.0.1', 9092)]> returned error 111. Disconnecting.\n",
      "WARNING:kafka.client:Node 1 connection failed -- refreshing metadata\n",
      "ERROR:kafka.conn:Connect attempt to <BrokerConnection node_id=1 host=127.0.0.1:9092 <connecting> [IPv4 ('127.0.0.1', 9092)]> returned error 111. Disconnecting.\n",
      "WARNING:kafka.client:Node 1 connection failed -- refreshing metadata\n",
      "ERROR:kafka.conn:Connect attempt to <BrokerConnection node_id=1 host=127.0.0.1:9092 <connecting> [IPv4 ('127.0.0.1', 9092)]> returned error 111. Disconnecting.\n",
      "WARNING:kafka.client:Node 1 connection failed -- refreshing metadata\n",
      "ERROR:kafka.conn:Connect attempt to <BrokerConnection node_id=1 host=127.0.0.1:9092 <connecting> [IPv4 ('127.0.0.1', 9092)]> returned error 111. Disconnecting.\n",
      "WARNING:kafka.client:Node 1 connection failed -- refreshing metadata\n",
      "ERROR:kafka.conn:Connect attempt to <BrokerConnection node_id=1 host=127.0.0.1:9092 <connecting> [IPv4 ('127.0.0.1', 9092)]> returned error 111. Disconnecting.\n",
      "WARNING:kafka.client:Node 1 connection failed -- refreshing metadata\n",
      "ERROR:kafka.conn:Connect attempt to <BrokerConnection node_id=1 host=127.0.0.1:9092 <connecting> [IPv4 ('127.0.0.1', 9092)]> returned error 111. Disconnecting.\n",
      "WARNING:kafka.client:Node 1 connection failed -- refreshing metadata\n",
      "ERROR:kafka.conn:Connect attempt to <BrokerConnection node_id=1 host=127.0.0.1:9092 <connecting> [IPv4 ('127.0.0.1', 9092)]> returned error 111. Disconnecting.\n",
      "WARNING:kafka.client:Node 1 connection failed -- refreshing metadata\n",
      "ERROR:kafka.conn:Connect attempt to <BrokerConnection node_id=1 host=127.0.0.1:9092 <connecting> [IPv4 ('127.0.0.1', 9092)]> returned error 111. Disconnecting.\n",
      "WARNING:kafka.client:Node 1 connection failed -- refreshing metadata\n",
      "ERROR:kafka.conn:Connect attempt to <BrokerConnection node_id=1 host=127.0.0.1:9092 <connecting> [IPv4 ('127.0.0.1', 9092)]> returned error 111. Disconnecting.\n",
      "WARNING:kafka.client:Node 1 connection failed -- refreshing metadata\n",
      "ERROR:kafka.conn:Connect attempt to <BrokerConnection node_id=1 host=127.0.0.1:9092 <connecting> [IPv4 ('127.0.0.1', 9092)]> returned error 111. Disconnecting.\n",
      "WARNING:kafka.client:Node 1 connection failed -- refreshing metadata\n",
      "ERROR:kafka.conn:Connect attempt to <BrokerConnection node_id=1 host=127.0.0.1:9092 <connecting> [IPv4 ('127.0.0.1', 9092)]> returned error 111. Disconnecting.\n",
      "WARNING:kafka.client:Node 1 connection failed -- refreshing metadata\n",
      "ERROR:kafka.conn:Connect attempt to <BrokerConnection node_id=1 host=127.0.0.1:9092 <connecting> [IPv4 ('127.0.0.1', 9092)]> returned error 111. Disconnecting.\n",
      "WARNING:kafka.client:Node 1 connection failed -- refreshing metadata\n",
      "ERROR:kafka.conn:Connect attempt to <BrokerConnection node_id=1 host=127.0.0.1:9092 <connecting> [IPv4 ('127.0.0.1', 9092)]> returned error 111. Disconnecting.\n",
      "WARNING:kafka.client:Node 1 connection failed -- refreshing metadata\n",
      "ERROR:kafka.conn:Connect attempt to <BrokerConnection node_id=1 host=127.0.0.1:9092 <connecting> [IPv4 ('127.0.0.1', 9092)]> returned error 111. Disconnecting.\n",
      "WARNING:kafka.client:Node 1 connection failed -- refreshing metadata\n",
      "ERROR:kafka.conn:Connect attempt to <BrokerConnection node_id=1 host=127.0.0.1:9092 <connecting> [IPv4 ('127.0.0.1', 9092)]> returned error 111. Disconnecting.\n",
      "WARNING:kafka.client:Node 1 connection failed -- refreshing metadata\n",
      "ERROR:kafka.conn:Connect attempt to <BrokerConnection node_id=1 host=127.0.0.1:9092 <connecting> [IPv4 ('127.0.0.1', 9092)]> returned error 111. Disconnecting.\n",
      "WARNING:kafka.client:Node 1 connection failed -- refreshing metadata\n",
      "ERROR:kafka.conn:Connect attempt to <BrokerConnection node_id=1 host=127.0.0.1:9092 <connecting> [IPv4 ('127.0.0.1', 9092)]> returned error 111. Disconnecting.\n",
      "WARNING:kafka.client:Node 1 connection failed -- refreshing metadata\n",
      "ERROR:kafka.conn:Connect attempt to <BrokerConnection node_id=1 host=127.0.0.1:9092 <connecting> [IPv4 ('127.0.0.1', 9092)]> returned error 111. Disconnecting.\n",
      "WARNING:kafka.client:Node 1 connection failed -- refreshing metadata\n",
      "ERROR:kafka.conn:Connect attempt to <BrokerConnection node_id=1 host=127.0.0.1:9092 <connecting> [IPv4 ('127.0.0.1', 9092)]> returned error 111. Disconnecting.\n",
      "WARNING:kafka.client:Node 1 connection failed -- refreshing metadata\n",
      "ERROR:kafka.conn:Connect attempt to <BrokerConnection node_id=1 host=127.0.0.1:9092 <connecting> [IPv4 ('127.0.0.1', 9092)]> returned error 111. Disconnecting.\n",
      "WARNING:kafka.client:Node 1 connection failed -- refreshing metadata\n",
      "ERROR:kafka.conn:Connect attempt to <BrokerConnection node_id=1 host=127.0.0.1:9092 <connecting> [IPv4 ('127.0.0.1', 9092)]> returned error 111. Disconnecting.\n",
      "WARNING:kafka.client:Node 1 connection failed -- refreshing metadata\n",
      "ERROR:kafka.conn:Connect attempt to <BrokerConnection node_id=1 host=127.0.0.1:9092 <connecting> [IPv4 ('127.0.0.1', 9092)]> returned error 111. Disconnecting.\n",
      "WARNING:kafka.client:Node 1 connection failed -- refreshing metadata\n",
      "ERROR:kafka.conn:Connect attempt to <BrokerConnection node_id=1 host=127.0.0.1:9092 <connecting> [IPv4 ('127.0.0.1', 9092)]> returned error 111. Disconnecting.\n",
      "WARNING:kafka.client:Node 1 connection failed -- refreshing metadata\n",
      "ERROR:kafka.conn:Connect attempt to <BrokerConnection node_id=1 host=127.0.0.1:9092 <connecting> [IPv4 ('127.0.0.1', 9092)]> returned error 111. Disconnecting.\n",
      "WARNING:kafka.client:Node 1 connection failed -- refreshing metadata\n"
     ]
    }
   ],
   "source": [
    "# Consume just one message\n",
    "from kafka import KafkaConsumer\n",
    "\n",
    "def do_some_stuff(message):\n",
    "    print(f\"{message.topic.upper()} Partition: {message.partition} Offset:{message.offset} key={message.key} value={message.value}\")\n",
    "\n",
    "\n",
    "# Open consumer connection\n",
    "consumer = KafkaConsumer(TOPIC,\n",
    "                         group_id=\"group team\",\n",
    "                         auto_offset_reset='latest',\n",
    "                         enable_auto_commit=False, # We are going to commit manually after doing some stuff.\n",
    "                         bootstrap_servers=[KAFKA_SERVER_URI])\n",
    "    \n",
    "# Read from consumer\n",
    "message = next(consumer)\n",
    "# Operate with message \n",
    "do_some_stuff(message)\n",
    "# Commit the offset\n",
    "consumer.commit()\n",
    "# Close the consumer connection\n",
    "consumer.close()"
   ]
  }
 ],
 "metadata": {
  "kernelspec": {
   "display_name": "Python 3",
   "language": "python",
   "name": "python3"
  },
  "language_info": {
   "codemirror_mode": {
    "name": "ipython",
    "version": 3
   },
   "file_extension": ".py",
   "mimetype": "text/x-python",
   "name": "python",
   "nbconvert_exporter": "python",
   "pygments_lexer": "ipython3",
   "version": "3.8.5"
  }
 },
 "nbformat": 4,
 "nbformat_minor": 4
}
